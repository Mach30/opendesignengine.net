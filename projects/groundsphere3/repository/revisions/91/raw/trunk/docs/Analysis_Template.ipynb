{
 "cells": [
  {
   "cell_type": "code",
   "execution_count": 1,
   "metadata": {},
   "outputs": [
    {
     "ename": "ModuleNotFoundError",
     "evalue": "No module named 'ephem'",
     "output_type": "error",
     "traceback": [
      "\u001b[1;31m---------------------------------------------------------------------------\u001b[0m",
      "\u001b[1;31mModuleNotFoundError\u001b[0m                       Traceback (most recent call last)",
      "\u001b[1;32m<ipython-input-1-748191f026be>\u001b[0m in \u001b[0;36m<module>\u001b[1;34m()\u001b[0m\n\u001b[0;32m      1\u001b[0m \u001b[1;32mimport\u001b[0m \u001b[0mpint\u001b[0m\u001b[1;33m\u001b[0m\u001b[0m\n\u001b[0;32m      2\u001b[0m \u001b[1;32mimport\u001b[0m \u001b[0mos\u001b[0m\u001b[1;33m,\u001b[0m \u001b[0msys\u001b[0m\u001b[1;33m\u001b[0m\u001b[0m\n\u001b[1;32m----> 3\u001b[1;33m \u001b[1;32mfrom\u001b[0m \u001b[0mutils\u001b[0m \u001b[1;32mimport\u001b[0m \u001b[1;33m*\u001b[0m\u001b[1;33m\u001b[0m\u001b[0m\n\u001b[0m\u001b[0;32m      4\u001b[0m \u001b[1;33m\u001b[0m\u001b[0m\n\u001b[0;32m      5\u001b[0m \u001b[0mlib_path\u001b[0m \u001b[1;33m=\u001b[0m \u001b[0mget_project_root\u001b[0m\u001b[1;33m(\u001b[0m\u001b[1;33m)\u001b[0m\u001b[1;33m\u001b[0m\u001b[0m\n",
      "\u001b[1;32m~\\Documents\\NOAA\\trunk\\docs\\utils.py\u001b[0m in \u001b[0;36m<module>\u001b[1;34m()\u001b[0m\n\u001b[0;32m      1\u001b[0m \u001b[1;33m\u001b[0m\u001b[0m\n\u001b[0;32m      2\u001b[0m \u001b[1;32mimport\u001b[0m \u001b[0mos\u001b[0m\u001b[1;33m\u001b[0m\u001b[0m\n\u001b[1;32m----> 3\u001b[1;33m \u001b[1;32mimport\u001b[0m \u001b[0mephem\u001b[0m\u001b[1;33m\u001b[0m\u001b[0m\n\u001b[0m\u001b[0;32m      4\u001b[0m \u001b[1;32mimport\u001b[0m \u001b[0mdatetime\u001b[0m\u001b[1;33m\u001b[0m\u001b[0m\n\u001b[0;32m      5\u001b[0m \u001b[1;32mimport\u001b[0m \u001b[0mmath\u001b[0m\u001b[1;33m\u001b[0m\u001b[0m\n",
      "\u001b[1;31mModuleNotFoundError\u001b[0m: No module named 'ephem'"
     ]
    }
   ],
   "source": [
    "import pint\n",
    "import os, sys\n",
    "from utils import *\n",
    "\n",
    "lib_path = get_project_root()\n",
    "sys.path.insert(0, lib_path)\n",
    "\n",
    "from lib.calculator import LinkBudgetCalculator"
   ]
  },
  {
   "cell_type": "code",
   "execution_count": null,
   "metadata": {
    "collapsed": true
   },
   "outputs": [],
   "source": [
    "ureg = pint.UnitRegistry()\n",
    "\n",
    "# create the linkBudgetCalculator object\n",
    "lb_calc = LinkBudgetCalculator(ureg)"
   ]
  },
  {
   "cell_type": "markdown",
   "metadata": {},
   "source": [
    "## Analysis of Design Iteration X"
   ]
  },
  {
   "cell_type": "markdown",
   "metadata": {},
   "source": [
    "### Description\n",
    "\n",
    "<br>\n",
    "TEMPLATE <br>\n",
    "DESCRIPTION <br>\n",
    "FOR <br>\n",
    "DESIGNS <br>\n",
    "<br>\n",
    "\n",
    "![alt text](block_diagram_template.png \"Block Diagram\")\n",
    "*<p style=\"text-align: center;\">Block Diagram</p>*\n"
   ]
  },
  {
   "cell_type": "markdown",
   "metadata": {},
   "source": [
    "### Setup of Ground Station Values\n",
    "\n",
    "DESCRIBE PARAMETERS OF GROUND STATION\n",
    "\n",
    "Values for specific ground station are below:"
   ]
  },
  {
   "cell_type": "code",
   "execution_count": 2,
   "metadata": {},
   "outputs": [
    {
     "ename": "NameError",
     "evalue": "name 'ureg' is not defined",
     "output_type": "error",
     "traceback": [
      "\u001b[1;31m---------------------------------------------------------------------------\u001b[0m",
      "\u001b[1;31mNameError\u001b[0m                                 Traceback (most recent call last)",
      "\u001b[1;32m<ipython-input-2-d0f3ed8ea783>\u001b[0m in \u001b[0;36m<module>\u001b[1;34m()\u001b[0m\n\u001b[1;32m----> 1\u001b[1;33m \u001b[0mlb_calc\u001b[0m\u001b[1;33m.\u001b[0m\u001b[0maltitude_ground_station\u001b[0m   \u001b[1;33m=\u001b[0m  \u001b[1;36m400\u001b[0m \u001b[1;33m*\u001b[0m \u001b[0mureg\u001b[0m\u001b[1;33m.\u001b[0m\u001b[0mmeter\u001b[0m\u001b[1;33m\u001b[0m\u001b[0m\n\u001b[0m\u001b[0;32m      2\u001b[0m \u001b[0mlb_calc\u001b[0m\u001b[1;33m.\u001b[0m\u001b[0mimplementation_loss\u001b[0m       \u001b[1;33m=\u001b[0m \u001b[1;33m-\u001b[0m\u001b[1;36m1.0\u001b[0m   \u001b[1;31m# dB\u001b[0m\u001b[1;33m\u001b[0m\u001b[0m\n\u001b[0;32m      3\u001b[0m \u001b[0mlb_calc\u001b[0m\u001b[1;33m.\u001b[0m\u001b[0mpolarization_losses\u001b[0m       \u001b[1;33m=\u001b[0m  \u001b[1;36m0.0\u001b[0m   \u001b[1;31m# dB\u001b[0m\u001b[1;33m\u001b[0m\u001b[0m\n\u001b[0;32m      4\u001b[0m \u001b[0mlb_calc\u001b[0m\u001b[1;33m.\u001b[0m\u001b[0mreceive_antenna_gain\u001b[0m      \u001b[1;33m=\u001b[0m  \u001b[1;36m5.4\u001b[0m   \u001b[1;31m# dB\u001b[0m\u001b[1;33m\u001b[0m\u001b[0m\n\u001b[0;32m      5\u001b[0m \u001b[0mlb_calc\u001b[0m\u001b[1;33m.\u001b[0m\u001b[0msystem_noise_figure\u001b[0m       \u001b[1;33m=\u001b[0m  \u001b[1;36m5.0\u001b[0m   \u001b[1;31m# dB\u001b[0m\u001b[1;33m\u001b[0m\u001b[0m\n",
      "\u001b[1;31mNameError\u001b[0m: name 'ureg' is not defined"
     ]
    }
   ],
   "source": [
    "lb_calc.altitude_ground_station   =  400 * ureg.meter\n",
    "lb_calc.implementation_loss       = -1.0   # dB\n",
    "lb_calc.polarization_losses       =  0.0   # dB\n",
    "lb_calc.receive_antenna_gain      =  5.4   # dB\n",
    "lb_calc.system_noise_figure       =  5.0   # dB"
   ]
  },
  {
   "cell_type": "markdown",
   "metadata": {},
   "source": [
    "### Setup of Satellite Values\n",
    "\n",
    "Values stated for a certain NOAA satellite. These values are covered in the documentation."
   ]
  },
  {
   "cell_type": "code",
   "execution_count": 3,
   "metadata": {},
   "outputs": [
    {
     "ename": "NameError",
     "evalue": "name 'ureg' is not defined",
     "output_type": "error",
     "traceback": [
      "\u001b[1;31m---------------------------------------------------------------------------\u001b[0m",
      "\u001b[1;31mNameError\u001b[0m                                 Traceback (most recent call last)",
      "\u001b[1;32m<ipython-input-3-3e2e7bc77254>\u001b[0m in \u001b[0;36m<module>\u001b[1;34m()\u001b[0m\n\u001b[1;32m----> 1\u001b[1;33m \u001b[0mlb_calc\u001b[0m\u001b[1;33m.\u001b[0m\u001b[0maltitude_satellite\u001b[0m        \u001b[1;33m=\u001b[0m  \u001b[1;36m860\u001b[0m \u001b[1;33m*\u001b[0m \u001b[0mureg\u001b[0m\u001b[1;33m.\u001b[0m\u001b[0mkilometer\u001b[0m\u001b[1;33m\u001b[0m\u001b[0m\n\u001b[0m\u001b[0;32m      2\u001b[0m \u001b[0mlb_calc\u001b[0m\u001b[1;33m.\u001b[0m\u001b[0mtransmit_power\u001b[0m            \u001b[1;33m=\u001b[0m  \u001b[1;36m5.0\u001b[0m \u001b[1;33m*\u001b[0m \u001b[0mureg\u001b[0m\u001b[1;33m.\u001b[0m\u001b[0mwatt\u001b[0m\u001b[1;33m\u001b[0m\u001b[0m\n\u001b[0;32m      3\u001b[0m \u001b[0mlb_calc\u001b[0m\u001b[1;33m.\u001b[0m\u001b[0mtransmit_losses\u001b[0m           \u001b[1;33m=\u001b[0m \u001b[1;33m-\u001b[0m\u001b[1;36m1.0\u001b[0m   \u001b[1;31m# dB\u001b[0m\u001b[1;33m\u001b[0m\u001b[0m\n\u001b[0;32m      4\u001b[0m \u001b[0mlb_calc\u001b[0m\u001b[1;33m.\u001b[0m\u001b[0mtransmit_antenna_gain\u001b[0m     \u001b[1;33m=\u001b[0m  \u001b[1;36m4.0\u001b[0m   \u001b[1;31m# dBi\u001b[0m\u001b[1;33m\u001b[0m\u001b[0m\n",
      "\u001b[1;31mNameError\u001b[0m: name 'ureg' is not defined"
     ]
    }
   ],
   "source": [
    "lb_calc.altitude_satellite        =  860 * ureg.kilometer\n",
    "lb_calc.transmit_power            =  5.0 * ureg.watt\n",
    "lb_calc.transmit_losses           = -1.0   # dB\n",
    "lb_calc.transmit_antenna_gain     =  4.0   # dBi"
   ]
  },
  {
   "cell_type": "markdown",
   "metadata": {},
   "source": [
    "### Setup of Additional Values"
   ]
  },
  {
   "cell_type": "markdown",
   "metadata": {},
   "source": [
    "Create functions for the changing elevation angle and atmospheric loss values."
   ]
  },
  {
   "cell_type": "code",
   "execution_count": 4,
   "metadata": {
    "collapsed": true
   },
   "outputs": [],
   "source": [
    "# receive pointing loss for given elevation (at our frequency)\n",
    "# these values are different for each antenna system, so the values are defined here for clarity\n",
    "# see referenced antenna specifications for more information\n",
    "def rx_pointing_loss_at_elev(elev):\n",
    "    return -10.0 if elev < 5  * ureg.degrees else \\\n",
    "           -6.0  if elev < 20 * ureg.degrees else \\\n",
    "           -3.0  if elev < 35 * ureg.degrees else \\\n",
    "           -1.0  if elev < 50 * ureg.degrees else 0.0"
   ]
  },
  {
   "cell_type": "markdown",
   "metadata": {},
   "source": [
    "Set paramaters for the analysis here"
   ]
  },
  {
   "cell_type": "markdown",
   "metadata": {},
   "source": [
    "Additional values are needed for the channel characteristics. A few of these values will change during an orbital pass!"
   ]
  },
  {
   "cell_type": "code",
   "execution_count": 6,
   "metadata": {
    "collapsed": true
   },
   "outputs": [],
   "source": [
    "lb_calc.orbit_elevation_angle     =  0.001          * ureg.degrees\n",
    "lb_calc.downlink_frequency        =  137.5          * ureg.megahertz\n",
    "lb_calc.target_energy_noise_ratio =  20.0             # dB\n",
    "lb_calc.noise_bandwidth           =  34.0           * ureg.kilohertz\n",
    "lb_calc.transmit_pointing_loss    = -3.0              # dB\n",
    "lb_calc.atmospheric_loss          =  atmloss_at_elev(ureg, lb_calc.orbit_elevation_angle)\n",
    "lb_calc.receiving_pointing_loss   =  rx_pointing_loss_at_elev(lb_calc.orbit_elevation_angle)"
   ]
  },
  {
   "cell_type": "markdown",
   "metadata": {},
   "source": [
    "### Analysis"
   ]
  },
  {
   "cell_type": "markdown",
   "metadata": {
    "collapsed": true
   },
   "source": [
    "Define variables for running a sweep over an orbital pass."
   ]
  },
  {
   "cell_type": "markdown",
   "metadata": {},
   "source": [
    "Increment through an entire orbital pass."
   ]
  },
  {
   "cell_type": "code",
   "execution_count": 7,
   "metadata": {},
   "outputs": [
    {
     "name": "stdout",
     "output_type": "stream",
     "text": [
      "Max poor elevation angle: 11.132293955545649\n",
      "Duration of poor pass: 0:12:34.999722\n",
      "Max average elevation angle: 33.03981409098066\n",
      "Duration of average pass: 0:15:09.999876\n",
      "Max good elevation angle: 75.95193579697357\n",
      "Duration of good pass: 0:16:06.999473\n"
     ]
    }
   ],
   "source": [
    "# get the elevation angles of different pass types using a TLE\n",
    "# use an old TLE (line0, line1, line2)\n",
    "tle_old = ('NOAA 19 [+]', '1 33591U 09005A   18092.90091581  .00000055  00000-0  55075-4 0  9994',\n",
    "       '2 33591  99.1353  69.4619 0014005 174.2137 185.9198 14.12266303471284')\n",
    "results = []\n",
    "# poor pass\n",
    "results.append(compute_angles(tle=tle_old, date='2018/04/03 02:00.00'))\n",
    "# average pass\n",
    "results.append(compute_angles(tle=tle_old, date='2018/04/03 10:00.00'))\n",
    "# excellent pass\n",
    "results.append(compute_angles(tle=tle_old, date='2018/04/01 06:00.00'))\n",
    "\n",
    "outputs = []\n",
    "outputs.append([])\n",
    "outputs.append([])\n",
    "outputs.append([])\n",
    "\n",
    "for n, res in enumerate(results):\n",
    "    for i, angle in enumerate(res[1]):\n",
    "        # compute the budget\n",
    "        lb_calc.run()\n",
    "\n",
    "        # ensure the computation was valid\n",
    "        if not lb_calc.is_valid:\n",
    "            raise Exception('Run at elevation angle ', lb_calc.orbit_elevation_angle, ' was not valid')\n",
    "\n",
    "        # save output as a tuple to output list\n",
    "        outputs[n].append( (lb_calc.link_distance, \\\n",
    "                         lb_calc.downlink_path_loss, \\\n",
    "                         lb_calc.received_power, \\\n",
    "                         lb_calc.energy_noise_ratio, \\\n",
    "                         lb_calc.link_margin) )\n",
    "\n",
    "        # increment the elevation angle\n",
    "        lb_calc.orbit_elevation_angle     = angle * ureg.degrees\n",
    "        lb_calc.atmospheric_loss          = atmloss_at_elev(ureg, lb_calc.orbit_elevation_angle)\n",
    "        lb_calc.receiving_pointing_loss   = rx_pointing_loss_at_elev(lb_calc.orbit_elevation_angle)\n",
    "\n",
    "# DEBUG\n",
    "print('Max poor elevation angle: {}'.format(max(results[0][1])))\n",
    "print('Duration of poor pass: {}'.format(results[0][2][-1] - results[0][2][0]))\n",
    "print('Max average elevation angle: {}'.format(max(results[1][1])))\n",
    "print('Duration of average pass: {}'.format(results[1][2][-1] - results[1][2][0]))\n",
    "print('Max good elevation angle: {}'.format(max(results[2][1])))\n",
    "print('Duration of good pass: {}'.format(results[2][2][-1] - results[2][2][0]))"
   ]
  },
  {
   "cell_type": "markdown",
   "metadata": {},
   "source": [
    "Once analysis has run, examine the results."
   ]
  },
  {
   "cell_type": "code",
   "execution_count": 8,
   "metadata": {
    "collapsed": true
   },
   "outputs": [],
   "source": [
    "%matplotlib inline\n",
    "import matplotlib.pyplot as plt\n",
    "\n",
    "# extract lists of the variables\n",
    "distances = []\n",
    "loss = []\n",
    "rx_pow = []\n",
    "eb_no = []\n",
    "margins = []\n",
    "for j in range(0, 3):\n",
    "    distances.append([ i[0].magnitude for i in outputs[j] ])\n",
    "    loss.append(     [ i[1] for i in outputs[j] ])\n",
    "    rx_pow.append(   [ i[2] for i in outputs[j] ])\n",
    "    eb_no.append(    [ i[3] for i in outputs[j] ])\n",
    "    margins.append(  [ i[4] for i in outputs[j] ])"
   ]
  },
  {
   "cell_type": "code",
   "execution_count": 19,
   "metadata": {},
   "outputs": [
    {
     "name": "stdout",
     "output_type": "stream",
     "text": [
      "Duration for Poor pass above margin: 0 seconds (0.0 minutes)\n",
      "Duration for Average pass above margin: 354 seconds (5.9 minutes)\n",
      "Duration for Good pass above margin: 472 seconds (7.87 minutes)\n"
     ]
    },
    {
     "data": {
      "image/png": "[encoded data removed]",
      "text/plain": [
       "<matplotlib.figure.Figure at 0x2b95a2c32b0>"
      ]
     },
     "metadata": {},
     "output_type": "display_data"
    },
    {
     "data": {
      "image/png": "[encoded data removed]",
      "text/plain": [
       "<matplotlib.figure.Figure at 0x2b9589246d8>"
      ]
     },
     "metadata": {},
     "output_type": "display_data"
    },
    {
     "data": {
      "image/png": "[encoded data removed]",
      "text/plain": [
       "<matplotlib.figure.Figure at 0x2b959e196d8>"
      ]
     },
     "metadata": {},
     "output_type": "display_data"
    }
   ],
   "source": [
    "fig = []\n",
    "types = ['Poor', 'Average', 'Good']\n",
    "\n",
    "for i in range(0, len(outputs)):\n",
    "    fig.append(plt.figure())\n",
    "    p = fig[i].add_subplot(111)\n",
    "    p.plot(range(0, len(margins[i])), margins[i], 'b', range(0, len(margins[i])), [0] * len(margins[i]), 'r--')\n",
    "    plt.title('Link Margins for Example {} Pass'.format(types[i]))\n",
    "    plt.xlabel('Time (s)')\n",
    "    plt.ylabel('Margin (dB)')\n",
    "\n",
    "    total_s = 0\n",
    "    for m in margins[i]:\n",
    "        if m > 0:\n",
    "            total_s += 1\n",
    "\n",
    "    print('Duration for {} pass above margin: {} seconds ({:.3} minutes)'.format(types[i], total_s, total_s/60))"
   ]
  },
  {
   "cell_type": "markdown",
   "metadata": {},
   "source": [
    "### Conclusions\n",
    "\n",
    "DETAIL CONCLUSIONS FOR THIS ITERATION\n",
    "\n",
    "PROBABLY WILL VARY GREATLY FOR EACH ITERATION"
   ]
  },
  {
   "cell_type": "code",
   "execution_count": null,
   "metadata": {
    "collapsed": true
   },
   "outputs": [],
   "source": []
  }
 ],
 "metadata": {
  "kernelspec": {
   "display_name": "Python 3",
   "language": "python",
   "name": "python3"
  },
  "language_info": {
   "codemirror_mode": {
    "name": "ipython",
    "version": 3
   },
   "file_extension": ".py",
   "mimetype": "text/x-python",
   "name": "python",
   "nbconvert_exporter": "python",
   "pygments_lexer": "ipython3",
   "version": "3.6.2"
  }
 },
 "nbformat": 4,
 "nbformat_minor": 2
}
