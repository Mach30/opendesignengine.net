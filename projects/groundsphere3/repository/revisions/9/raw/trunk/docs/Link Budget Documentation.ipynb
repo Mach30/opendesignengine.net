{
 "cells": [
  {
   "cell_type": "code",
   "execution_count": 1,
   "metadata": {
    "collapsed": true
   },
   "outputs": [],
   "source": [
    "import math"
   ]
  },
  {
   "cell_type": "markdown",
   "metadata": {},
   "source": [
    "# Link Budget\n",
    "\n",
    "Mach 30 is designing a radio to receive transmissions from satellites (a ground station), named Ground Sphere. One of the most crucial calculations for determining whether the ground station's design will be able to receive the signals transmitted by a given satellite is the link budget. Simply put, a link budget factors in all gains and losses in the system composed of the transmitter (satellite) and receiver (ground station), and everything in between.\n",
    "\n",
    "The calculations themselves are implemented by a python class named LinkBudget. The class models what are generally the most significant factors in calculating a link budget. Because there are many factors that are difficult or impossible to accurately factor in, such as the amount a given storm may introduce noise into the system, several aspects of the budget are averages or otherwise estimated values.\n",
    "\n",
    "## Overview\n",
    "\n",
    "This particular link analysis uses 13 inputs to calculate the Link Margin. These inputs are described in the table below. Please take note that for the equations to work, losses will be negative numbers, while gains are positive numbers.\n",
    "\n",
    "| Input | Units |Symbols|\n",
    "|---|---|-----:|\n",
    "|Downlink Frequency| MHz |$${f}$$ | \n",
    "|Target Energy per Bit to Noise Power Ratio | dB |$${Eb}/{No_T}$$ |\n",
    "|Implementation Loss of Transmitter | dB | $${L_{TrImp}}$$| \n",
    "|Transmit Power | W |$${P_{Tr}}$$ | \n",
    "|Transmit Losses | dB |$${L_{Tr}}$$| \n",
    "|Transmit Antenna Gain | dB |$${G_{Tr}}$$ |  \n",
    "|Transmit Pointing Loss | dB |$${L_{TrP}}$$ |\n",
    "|Link Distance | km |$${D}$$ | \n",
    "|Polarization Losses | dB | $${L_{Pol}}$$| \n",
    "|Atmospheric Loss | dB |$${L_{At}}$$ |\n",
    "|Receiver Antenna Gain | dB |$${G_{Re}}$$ | \n",
    "|Receiver Pointing Loss | dB |$${L_{ReP}}$$ | \n",
    "|System Noise Figure | dB |$${N_{Sys}}$$ | \n",
    "|Noise Bandwidth | kHz|$$BW$$|\n",
    "\n",
    "|Other Variables |Units|Symbols| \n",
    "|---|---|--:|\n",
    "|Wavelength| m |$${\\lambda}$$ |\n",
    "|Required Eb/No|dB |$${{Eb/No}_R}$$ |\n",
    "|Converted Transmit Power| dBm |$${P_{TrC}}$$ |\n",
    "|Transmit EIRP| dB |$${EIRP}$$ |\n",
    "|Downlink Path Loss| dB |$${L_{Path}}$$ |\n",
    "|Received Power|dBm|$${P_{Re}}$$|\n",
    "|Minimum Detectable Signal | dBm | $${MDS}$$| \n",
    "|Final Eb/No| dB | $${Eb/No}_{F}$$| \n",
    "|Link Margin | dB | $${Link_{Mar}}$$| \n",
    "\n",
    "The equation used will be Link Margin = Actual Eb/No - Required Eb/No, where Required Eb/No = Target Eb/No + Implementation Losses and Actual Eb/No = Received Power - MDS. The target Eb/No and the Implementation Losses are usually assumed based on previous experience and research. The Received Power = Transmit EIRP + Downlink Path Loss + Polarization Loss + Atmosphere Loss + Receive Antenna Gain + Receiver Pointing Losses, and the MDS = -174 + 10log(Noise Bandwidth * 1000) + System Noise Figure. Some of these numbers are inputs while others are derived from the inputs. How to derive these values is explained below. \n",
    "\n",
    "*<p style=\"text-align: center;\"><b>Equations Listed in the Order Mentioned</b></p>*\n",
    "\n",
    "$$Link_{Mar} [dB] = {{Eb/No}_F} [dB] - {{Eb/No}_R} [dB]$$\n",
    "\n",
    "$$ {Eb/No}_F [dB] = {P_{Re}}[dBm] -{MDS}[dBm]$$\n",
    "\n",
    "$${Eb/No}_R [dB] = {Eb/No}_T[dB] + {L_{TrImp}} [dB]$$\n",
    "\n",
    "$$P_{Re} [dBm] = {EIRP}[dB] + L_{Path}[dB] + L_{Pol} [dB]+ L_{At} [dB]+ G_{Re}[dB] + L_{ReP}[dB]$$\n",
    "\n",
    "$$MDS[dB] = -174 + 10log_{10}(BW[kHz]*1000) + N_{Sys}[dB]$$"
   ]
  },
  {
   "cell_type": "code",
   "execution_count": null,
   "metadata": {
    "collapsed": true
   },
   "outputs": [],
   "source": []
  },
  {
   "cell_type": "markdown",
   "metadata": {},
   "source": [
    "## Downlink\n",
    "\n",
    "The Downlink Wavelength = The Speed of Light / Downlink Frequency. The Target Eb/No and Implementation Loss, as well as the Required Eb/No are found through research based on your particular transmission and educated assumptions. The Target Eb/No for NOAA Automatic Picture Transmission (APT) reception is typically around 20 - 25 dB, however it varies based on communication scheme (e.g. modulation, forward error correction, coding schemes, etc.). The Implementation Loss is loss due deviation of a real system from theoretically perfect system in math. This typically assumed to be around 1 dB.\n",
    "\n",
    "\n",
    "$$ \\lambda [m] = c/f$$\n",
    "\n",
    "$$ Eb/No_R [dB]= L_{Imp}[dB] + Eb/No_T[dB] $$\n"
   ]
  },
  {
   "cell_type": "markdown",
   "metadata": {
    "collapsed": true
   },
   "source": [
    "## Transmitter\n",
    "\n",
    "Whenever information is sent from one place to another, such as when a satellite transmits an image down to Earth to be received by a radio on the ground (ground station), the power (gain) of the signal being transmitted from the satellite is a critical factor in how well it will be able to be received by the ground station. This section of the document serves as a guide to determining what the gain of the source of the transmission may be. In some cases, the gain may be known, but in other cases it must be estimated based on knowledge of the components of the radio system used to transmit.\n",
    "\n",
    "In the event that you do not know what the gain of the transmitter is, there are a few methods one might use to determine it. Some satellites have their broadcast frequency publicly available, such as with the NOAA satellites. This may be on the organization's website, but a great source is the Earth Observation Portal's Satellite Mission Database, which contains detailed information about a wide number of satellites, all in one place.\n",
    "\n",
    "If you cannot access this information, you may have to make some estimates based upon known equipment of the transmitter, or simply make a guess for the purposes of calculating your link budget. If you're attempting to calculate an estimate, knowing what the gain of the antenna, radio, and amplifier are is helpful, where you may then be able to use a conservative estimate for the loss of other components in the system. This estimate may be 1.0db to 1.5db of loss in the 100MHz range (or higher for longer lengths of transmission line). This will decrease in higher frequencies due to the need for components of the transmission system such as filters or waveguides to be tightly matched to the transmission frequency.\n",
    "\n",
    "Find the power of the transmitter and convert it to dBm. To convert from watts to dBm, the conversion is power_in_dBm = 10log(power_in_watts*1000). The transmit losses, pointing losses, and antenna gain will be decided based on research, as mentioned above. The Transmit EIRP = Transmit Power + Transmit Losses + Transmit Antenna Gain + Pointing Losses.\n",
    "\n",
    "$$ P_{TrC} [dBm] = 10log_{10}(P_{Tr}[W]*1000) $$\n",
    "\n",
    "$$ EIRP[dB] = P_{TrC}[dB] + L_{Tr}[dB] + G_{Tr}[dB] + L_{TrP}[dB] $$"
   ]
  },
  {
   "cell_type": "markdown",
   "metadata": {
    "collapsed": true
   },
   "source": [
    "## Calculating Distance from Transmitter to Receiver\n",
    "\n",
    "Now that the transmitter is sending data, it has to travel to the receiver. As light travels from the transmitter to the receiver, it disperses, spreading out into a larger area than that of the transmitter. As a result, the distance the transmission travels incurs loss in the signal. There is also loss accumulated from traveling through a given medium (air for example), which we will account for in the next section. Calculating the distance from the transmitter to receiver so that we can determine the resulting loss involves a little bit of basic trigonometry.\n",
    "\n",
    "#### Known Variables ####\n",
    "In the case of a satellite, the main piece of information you need to know is the orbital altitude of the satellite. Additionally, the altitude the receiver will be used at is important, but if unknown, the lowest altitude the receiver may be used at should be used (for example, sea level, or 0 meters). The last piece of the puzzle is the angle relative to the receiver the satellite will be as it rises above the horizon and the receiver starts to receive, as this is the angle at which the most signal loss will occur. 25° is a good value to use here, accounting for trees and other ground based obstructions. If you know the receiver is going to be used from some place without many ground based obstructions, such as a mountaintop, you might use a larger angle.\n",
    "\n",
    "With that angle and the altitude of the satellite and receiver, we can calculate the slant range, or the distance between the transmitter to receiver, using basic trigonometry.  As the satellite travels over head, it is orbiting the Earth, and the receiver is on the ground. Both of these share the center of the Earth in common, acting as the third point of the triangle. Examining Diagram 1 below, you can see a visual representation of this, along with number of variables displayed. \n",
    "\n",
    "![alt text](diagram1.png \"Diagram 1\")\n",
    "*<p style=\"text-align: center;\">Diagram 1</p>*\n",
    "\n",
    "The location of the transmitter (***A***), receiver (***B***), and center of the Earth (***C***) are shown, as well as the angle above the horizon the satellite will first be received from (***ϕ***). What needs to be solved for is the slant range, represented as ***c***. Some of these variables we have not yet assigned a value. The radius of the Earth (***r***) is known. Because the receiver is at sea level, this is also the distance from ***B*** to ***C***, represented in the diagram as ***a***. The satellite orbits Earth at a known altitude, and that plus ***r*** is equal to ***b***, or the distance from ***A*** to ***C***. If the receiver is not at sea level, ***a*** is similarly simply the altitude above sea level of the receiver plus ***r***\n",
    "\n",
    "There are still some variables in the diagram that are unknown. These are ***β***, the angle at ***B*** between ***A*** and ***C***, ***θ***, the angle at ***C*** between ***A*** and ***B***, and similarly ***α***, the angle at ***A*** between ***B*** and ***C***. Lucky for us, just like ***b***, we have the information to calculate ***β***, with which we can calculate the other angles. Since ***A*** is at a known angle above the horizon, and the horizon is perpendicular to ***a***, ***β*** is the angle above the horizon + 90°.\n",
    "\n",
    "#### Calculating Slant Range ####\n",
    "To solve for the remaining values, including the slant range, we need only two equations. The first is the law of sines, which states that for a triangle, the sine of an angle divided by the length of the opposite side of the triangle is equal to the same for each other angle. Below is a representation of this equation.\n",
    "\n",
    "$$\\frac{sin(α)}{a} = \\frac{sin(β)}{b} = \\frac{sin(θ)}{c}$$\n",
    "\n",
    "With this equation, we can determine the value for ***α*** given the information we already know. \n",
    "\n",
    "$$\\frac{sin(α)}{a} = \\frac{sin(β)}{b}$$\n",
    "$$sin(α) = a * \\frac{sin(β)}{b}$$\n",
    "$$sin(α) = \\frac{a}{b} * sin(β)$$\n",
    "$$α = sin^{-1}\\bigg(\\frac{a}{b} * sin(β)\\bigg)$$\n",
    "\n",
    "The other equation is the fact that the sum of the inner angles of a triangle are equal to 180. Below is a representation of this equation. \n",
    "\n",
    "$$180 = α + β + θ$$\n",
    "\n",
    "With this equation, when two of the angles are known, the third can be calculated using subtraction. This equation is subsequently used to calculate ***θ***. With ***θ*** known, law of sines again can be used to calculate ***c***.\n",
    "\n",
    "We can now represent all of the information we have, as well as the equations to solve for the as yet unknowns. The table below lists all this information.\n",
    "\n",
    "| Variable | Description | Equation to Solve for Variable |\n",
    "|---|---|---|---|\n",
    "| ***A*** | Transmitter / Satellite |   |\n",
    "| ***B*** | Receiver |   |\n",
    "| ***C*** | Center of Earth |   |\n",
    "| ***r*** | Earth Radius |   |\n",
    "| ***a*** | Distance from ***C*** to *** B *** | $$r + B_{altitude}$$ |\n",
    "| ***b*** | Distance from ***C*** to *** A *** | $$r + A_{altitude}$$ |\n",
    "| ***c*** | Slant Range | $$sin(θ) * \\frac{b}{sin(β)}$$ |\n",
    "| ***ϕ*** | Angle of Transmitter above Horizon |   |\n",
    "| ***α*** | Angle at ***A*** between ***B*** and ***C*** | $$sin^{-1}\\bigg(\\frac{a}{b} * sin(β)\\bigg)$$ |\n",
    "| ***β*** | Angle at ***B*** between ***A*** and ***C*** | $$θ + 90°$$ |\n",
    "| ***θ*** | Angle at ***C*** between ***A*** and ***B*** | $$180 - α - β$$ |"
   ]
  },
  {
   "cell_type": "markdown",
   "metadata": {},
   "source": [
    "## Path and Atmospheric Losses\n",
    "\n",
    "The Link Distance was solved for in the section above. Downlink Path Loss (dB) =  -1*10log((4PI*distance*1000/wavelength)^2). Polarization Loss is zero in this example because both of the antennas are right hand circularly polarized (RHCP). As a counterexample, if one of the antennas is circularly polarized and the other antennas is linearly polarized, the polarization loss would be around 3 [dB].\n",
    "\n",
    "$$L_{Path} = (-1)*10log_{10}((\\frac{4{\\pi}*D*1000}{\\lambda})^2)$$\n",
    "\n",
    "Losses due to atmospheric gases (Nitrogen, Oxygen, Carbon Dioxide, Hydrogen, etc.) are nearly independent of atmospheric temperature, mean density and relative humidity at frequencies below 2 GHz.  Atmospheric absorption depends strongly upon the total number of molecules distributed along the path between the spacecraft and the ground station.  This, in turn, means that the losses from or to the satellite are elevation angle dependent.\t\t\t\t\t\t\t\t\t\n",
    "\t\t\t\t\t\t\t\t\t\n",
    "The data used here  is taken from \"Radiowave Propagation in Satellite Communications\" by\t\t\t\t\t\t\t\t\t\n",
    "Louis J. Ippolito, Jr., Van Nostrand-Reinhold, 1986, pp. 33-34, Tables 3-3a-c. If you are using uplink or downlink frequencies above 2 GHz, refer to the referenced text given above to determine the appropriate atmosperic losses.\n",
    "\n",
    "The table below is a look-up table.\n",
    "\n",
    "\n",
    "|Elevation Angle|Loss|Unit|\n",
    "|---|---|--:|\n",
    "|0$^{\\circ}$|10.2|dB|\n",
    "|2.5$^{\\circ}$|4.6|dB|\n",
    "|5$^{\\circ}$|2.1|dB|\n",
    "|10$^{\\circ}$|1.1|dB|\n",
    "|30$^{\\circ}$|.4|dB|\n",
    "|45$^{\\circ}$|.3|dB|\n",
    "|90$^{\\circ}$|0.0|dB|\n",
    "\n",
    "This information was taken from the AmSat-IARU Link Model.\n"
   ]
  },
  {
   "cell_type": "markdown",
   "metadata": {},
   "source": [
    "## Receiver\n",
    "\n",
    "The Receiver Antenna Gain will be based on the shape of the antenna and the Pointing Offset is affected by the angle it is receiving the transmission from. The Received Power = Transmit EIRP + Downlink Path Loss + Polarization Loss + Atmospheric Losses + Receiver Antenna Gain + Receiver Pointing Losses.\n",
    "\n",
    "$$P_{Re}[dBm] = EIRP[dB] + L_{Path} [dB]+ L_{Pol}[dB] + L_{At} [dB]+ G_{Re}[dB] + L_{ReP}[dB] $$"
   ]
  },
  {
   "cell_type": "markdown",
   "metadata": {},
   "source": [
    "## Solve for Link Margin\n",
    "\n",
    "Now that all the bits and pieces have been solved for, plug them back into the equations listed at the beginning of the document to solve for the Link Margin.\n",
    "\n",
    "$$MDS[dB] = -174 + 10log_{10}(BW[kHz]*1000) + N_{Sys}[dB]$$\n",
    "\n",
    "$$P_{Re}[dB] = {EIRP}[dB] + L_{Path}[dB] + L_{Pol}[dB] + L_{At}[dB] + G_{Re}[dB] + L_{ReP}[dB]$$\n",
    "\n",
    "$$ {Eb/No}_F[dB] = {P_{Re}}[dB] -{MDS}[dB]$$\n",
    "\n",
    "$${Eb/No}_R[dB] = {Eb/No}_T[dB] + {L_{TrImp}}[dB]$$\n",
    "\n",
    "$$Link_{Mar}[dB] = {{Eb/No}_F}[dB] - {{Eb/No}_R}[dB]$$"
   ]
  },
  {
   "cell_type": "code",
   "execution_count": null,
   "metadata": {
    "collapsed": true
   },
   "outputs": [],
   "source": []
  },
  {
   "cell_type": "code",
   "execution_count": null,
   "metadata": {
    "collapsed": true
   },
   "outputs": [],
   "source": []
  }
 ],
 "metadata": {
  "kernelspec": {
   "display_name": "Python 3",
   "language": "python",
   "name": "python3"
  },
  "language_info": {
   "codemirror_mode": {
    "name": "ipython",
    "version": 3
   },
   "file_extension": ".py",
   "mimetype": "text/x-python",
   "name": "python",
   "nbconvert_exporter": "python",
   "pygments_lexer": "ipython3",
   "version": "3.6.1"
  }
 },
 "nbformat": 4,
 "nbformat_minor": 2
}
